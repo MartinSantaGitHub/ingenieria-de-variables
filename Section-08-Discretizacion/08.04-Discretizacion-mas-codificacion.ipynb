{
 "cells": [
  {
   "cell_type": "markdown",
   "metadata": {},
   "source": [
    "## Discretización más codificación \n",
    "\n",
    "Qué debemos hacer con las variables después de la discretización? Debemos usar los intervalos como una variable numérica? o deberíamos usar los intervalos como una variable categórica?\n",
    "\n",
    "La respuesta es si, puedes hacer cualquiera de las dos. \n",
    "\n",
    "Si estás construyendo algoritmos de árboles de decisión y los resultados de la discretización son enteros (y cada entero se refiere a un intervalo), luego podemos usar estos intervalos directamente, ya que los árboles de decisión pueden encontrar relaciones no lineales entre las variables discretizadas y el target.\n",
    "\n",
    "Si estás construyendo modelos lineales, los intervalos no necesariamente van a tener una relación lineal con el target. En este caso, puede ayudar a mejorar el desempeño del modelo para tratar los intervalos como categorías y para la codificación one hot o la codificación guida por el target como la codificación por la media, pesos de evidencia o la codificación ordinal.\n",
    "\n",
    "Esto se puede hacer fácilmente combinando los discretizadores y codificadores de feature-engine.\n",
    "\n",
    "## En este demo\n",
    "\n",
    "Vas a aprender como discretizar usando igual frecuencia seguida por la codificación ordinal guiada por el target usando los datos del Titanic.\n",
    "\n",
    "Si quieres utilizar pesos de evidencia o codificación por la media, solo necesitas reemplazar el codificador de feature-engine.\n"
   ]
  },
  {
   "cell_type": "code",
   "execution_count": 1,
   "metadata": {},
   "outputs": [],
   "source": [
    "import pandas as pd\n",
    "import numpy as np\n",
    "\n",
    "import matplotlib.pyplot as plt\n",
    "\n",
    "from sklearn.model_selection import train_test_split\n",
    "\n",
    "from feature_engine.discretisation import EqualFrequencyDiscretiser\n",
    "from feature_engine.encoding import OrdinalEncoder as OrdinalCategoricalEncoder"
   ]
  },
  {
   "cell_type": "code",
   "execution_count": 2,
   "metadata": {},
   "outputs": [
    {
     "data": {
      "text/html": [
       "<div>\n",
       "<style scoped>\n",
       "    .dataframe tbody tr th:only-of-type {\n",
       "        vertical-align: middle;\n",
       "    }\n",
       "\n",
       "    .dataframe tbody tr th {\n",
       "        vertical-align: top;\n",
       "    }\n",
       "\n",
       "    .dataframe thead th {\n",
       "        text-align: right;\n",
       "    }\n",
       "</style>\n",
       "<table border=\"1\" class=\"dataframe\">\n",
       "  <thead>\n",
       "    <tr style=\"text-align: right;\">\n",
       "      <th></th>\n",
       "      <th>survived</th>\n",
       "      <th>age</th>\n",
       "      <th>fare</th>\n",
       "    </tr>\n",
       "  </thead>\n",
       "  <tbody>\n",
       "    <tr>\n",
       "      <th>0</th>\n",
       "      <td>1</td>\n",
       "      <td>29.0000</td>\n",
       "      <td>211.3375</td>\n",
       "    </tr>\n",
       "    <tr>\n",
       "      <th>1</th>\n",
       "      <td>1</td>\n",
       "      <td>0.9167</td>\n",
       "      <td>151.5500</td>\n",
       "    </tr>\n",
       "    <tr>\n",
       "      <th>2</th>\n",
       "      <td>0</td>\n",
       "      <td>2.0000</td>\n",
       "      <td>151.5500</td>\n",
       "    </tr>\n",
       "    <tr>\n",
       "      <th>3</th>\n",
       "      <td>0</td>\n",
       "      <td>30.0000</td>\n",
       "      <td>151.5500</td>\n",
       "    </tr>\n",
       "    <tr>\n",
       "      <th>4</th>\n",
       "      <td>0</td>\n",
       "      <td>25.0000</td>\n",
       "      <td>151.5500</td>\n",
       "    </tr>\n",
       "  </tbody>\n",
       "</table>\n",
       "</div>"
      ],
      "text/plain": [
       "   survived      age      fare\n",
       "0         1  29.0000  211.3375\n",
       "1         1   0.9167  151.5500\n",
       "2         0   2.0000  151.5500\n",
       "3         0  30.0000  151.5500\n",
       "4         0  25.0000  151.5500"
      ]
     },
     "execution_count": 2,
     "metadata": {},
     "output_type": "execute_result"
    }
   ],
   "source": [
    "# cargar variables numéricas Titanic Dataset\n",
    "\n",
    "data = pd.read_csv('../titanic.csv',\n",
    "                   usecols=['age', 'fare', 'survived'])\n",
    "\n",
    "data.head()"
   ]
  },
  {
   "cell_type": "code",
   "execution_count": 3,
   "metadata": {},
   "outputs": [
    {
     "data": {
      "text/plain": [
       "((916, 2), (393, 2))"
      ]
     },
     "execution_count": 3,
     "metadata": {},
     "output_type": "execute_result"
    }
   ],
   "source": [
    "# separar en sets de entrenamiento y prueba\n",
    "\n",
    "X_train, X_test, y_train, y_test = train_test_split(\n",
    "    data[['age', 'fare']],\n",
    "    data['survived'],\n",
    "    test_size=0.3,\n",
    "    random_state=0)\n",
    "\n",
    "X_train.shape, X_test.shape"
   ]
  },
  {
   "cell_type": "markdown",
   "metadata": {},
   "source": [
    "Las variables age y fare contienen datos faltantes. Los vamos a completar extrayendo una muestra aleatoria de la variable."
   ]
  },
  {
   "cell_type": "code",
   "execution_count": 4,
   "metadata": {},
   "outputs": [],
   "source": [
    "def impute_na(data, variable):\n",
    "    \n",
    "    # función para reemplazar NA con una muestra aleatoria\n",
    "\n",
    "    df = data.copy()\n",
    "\n",
    "    # muestra aleatoria\n",
    "    df[variable+'_aleatoria'] = df[variable]\n",
    "\n",
    "     # extraer muestra aleatoria para completar datos faltantes na\n",
    "    random_sample = X_train[variable].dropna().sample(\n",
    "        df[variable].isnull().sum(), random_state=0)\n",
    "\n",
    "    # pandas necesita tener el mismo index para poder \n",
    "    # combinar los dataframes\n",
    "    random_sample.index = df[df[variable].isnull()].index\n",
    "    df.loc[df[variable].isnull(), variable+'_aleatoria'] = random_sample\n",
    "\n",
    "    return df[variable+'_aleatoria']"
   ]
  },
  {
   "cell_type": "code",
   "execution_count": 5,
   "metadata": {},
   "outputs": [],
   "source": [
    "# reemplazar los NA en sets de entrenamiento y prueba\n",
    "\n",
    "X_train['age'] = impute_na(data, 'age')\n",
    "X_test['age'] = impute_na(data, 'age')\n",
    "\n",
    "X_train['fare'] = impute_na(data, 'fare')\n",
    "X_test['fare'] = impute_na(data, 'fare')"
   ]
  },
  {
   "cell_type": "code",
   "execution_count": 6,
   "metadata": {},
   "outputs": [
    {
     "data": {
      "image/png": "[encoded data removed]",
      "text/plain": [
       "<Figure size 576x288 with 2 Axes>"
      ]
     },
     "metadata": {
      "needs_background": "light"
     },
     "output_type": "display_data"
    }
   ],
   "source": [
    "# exploremos la distribución de la variable age\n",
    "\n",
    "X_train[['age', 'fare']].hist(bins=30, figsize=(8,4))\n",
    "plt.show()"
   ]
  },
  {
   "cell_type": "markdown",
   "metadata": {},
   "source": [
    "## Discretización Igual frecuencia con Feature-engine"
   ]
  },
  {
   "cell_type": "code",
   "execution_count": 7,
   "metadata": {},
   "outputs": [],
   "source": [
    "# inicializar el discretizador de igual frecuencia\n",
    "# para codificar las variables las necesitamos\n",
    "# retornadas como objetos para feature-engine\n",
    "\n",
    "disc = EqualFrequencyDiscretiser(\n",
    "    q=10, variables=['age', 'fare'], return_object=True)\n",
    "\n",
    "# encuentra los intervalos\n",
    "disc.fit(X_train)\n",
    "\n",
    "# transforma sets de entrenamieto y prueba\n",
    "train_t = disc.transform(X_train)\n",
    "test_t = disc.transform(X_test)"
   ]
  },
  {
   "cell_type": "code",
   "execution_count": 8,
   "metadata": {},
   "outputs": [
    {
     "data": {
      "text/plain": [
       "age     object\n",
       "fare    object\n",
       "dtype: object"
      ]
     },
     "execution_count": 8,
     "metadata": {},
     "output_type": "execute_result"
    }
   ],
   "source": [
    "train_t.dtypes"
   ]
  },
  {
   "cell_type": "code",
   "execution_count": 9,
   "metadata": {},
   "outputs": [
    {
     "data": {
      "text/html": [
       "<div>\n",
       "<style scoped>\n",
       "    .dataframe tbody tr th:only-of-type {\n",
       "        vertical-align: middle;\n",
       "    }\n",
       "\n",
       "    .dataframe tbody tr th {\n",
       "        vertical-align: top;\n",
       "    }\n",
       "\n",
       "    .dataframe thead th {\n",
       "        text-align: right;\n",
       "    }\n",
       "</style>\n",
       "<table border=\"1\" class=\"dataframe\">\n",
       "  <thead>\n",
       "    <tr style=\"text-align: right;\">\n",
       "      <th></th>\n",
       "      <th>age</th>\n",
       "      <th>fare</th>\n",
       "    </tr>\n",
       "  </thead>\n",
       "  <tbody>\n",
       "    <tr>\n",
       "      <th>501</th>\n",
       "      <td>0</td>\n",
       "      <td>5</td>\n",
       "    </tr>\n",
       "    <tr>\n",
       "      <th>588</th>\n",
       "      <td>0</td>\n",
       "      <td>6</td>\n",
       "    </tr>\n",
       "    <tr>\n",
       "      <th>402</th>\n",
       "      <td>5</td>\n",
       "      <td>4</td>\n",
       "    </tr>\n",
       "    <tr>\n",
       "      <th>1193</th>\n",
       "      <td>2</td>\n",
       "      <td>1</td>\n",
       "    </tr>\n",
       "    <tr>\n",
       "      <th>686</th>\n",
       "      <td>2</td>\n",
       "      <td>1</td>\n",
       "    </tr>\n",
       "  </tbody>\n",
       "</table>\n",
       "</div>"
      ],
      "text/plain": [
       "     age fare\n",
       "501    0    5\n",
       "588    0    6\n",
       "402    5    4\n",
       "1193   2    1\n",
       "686    2    1"
      ]
     },
     "execution_count": 9,
     "metadata": {},
     "output_type": "execute_result"
    }
   ],
   "source": [
    "train_t.head()"
   ]
  },
  {
   "cell_type": "code",
   "execution_count": 10,
   "metadata": {},
   "outputs": [
    {
     "data": {
      "text/plain": [
       "Text(0, 0.5, 'media de target - survived')"
      ]
     },
     "execution_count": 10,
     "metadata": {},
     "output_type": "execute_result"
    },
    {
     "data": {
      "image/png": "[encoded data removed]",
      "text/plain": [
       "<Figure size 432x288 with 1 Axes>"
      ]
     },
     "metadata": {
      "needs_background": "light"
     },
     "output_type": "display_data"
    }
   ],
   "source": [
    "# exploremos si los intervalos tienen una relación lineal con el target:\n",
    "\n",
    "pd.concat([train_t, y_train], axis=1).groupby('age')['survived'].mean().plot()\n",
    "plt.ylabel('media de target - survived')"
   ]
  },
  {
   "cell_type": "code",
   "execution_count": 11,
   "metadata": {},
   "outputs": [
    {
     "data": {
      "text/plain": [
       "Text(0, 0.5, 'media de target - survived')"
      ]
     },
     "execution_count": 11,
     "metadata": {},
     "output_type": "execute_result"
    },
    {
     "data": {
      "image/png": "[encoded data removed]",
      "text/plain": [
       "<Figure size 432x288 with 1 Axes>"
      ]
     },
     "metadata": {
      "needs_background": "light"
     },
     "output_type": "display_data"
    }
   ],
   "source": [
    "pd.concat([train_t, y_train], axis=1).groupby('fare')['survived'].mean().plot()\n",
    "plt.ylabel('media de target - survived')"
   ]
  },
  {
   "cell_type": "markdown",
   "metadata": {},
   "source": [
    "Ninguna de las variables muestra una relación monotónica con entre los intervalos de la variable discretizada y la media del target (survival). Podemos codificar los intervalos para devolver una relación monotónica.\n",
    "\n",
    "## Codificación Ordinal con Feature-engine"
   ]
  },
  {
   "cell_type": "code",
   "execution_count": 12,
   "metadata": {},
   "outputs": [],
   "source": [
    "enc = OrdinalCategoricalEncoder(encoding_method = 'ordered')\n",
    "\n",
    "enc.fit(train_t, y_train)\n",
    "\n",
    "train_t = enc.transform(train_t)\n",
    "test_t = enc.transform(test_t)"
   ]
  },
  {
   "cell_type": "code",
   "execution_count": 13,
   "metadata": {},
   "outputs": [
    {
     "data": {
      "text/plain": [
       "{'age': {7: 0, 2: 1, 4: 2, 1: 3, 9: 4, 3: 5, 6: 6, 5: 7, 0: 8, 8: 9},\n",
       " 'fare': {0: 0, 3: 1, 2: 2, 4: 3, 1: 4, 5: 5, 7: 6, 6: 7, 8: 8, 9: 9}}"
      ]
     },
     "execution_count": 13,
     "metadata": {},
     "output_type": "execute_result"
    }
   ],
   "source": [
    "# en la codificación, mapeamos los intervalos a una posición\n",
    "enc.encoder_dict_"
   ]
  },
  {
   "cell_type": "code",
   "execution_count": 14,
   "metadata": {},
   "outputs": [
    {
     "data": {
      "text/plain": [
       "Text(0, 0.5, 'media de target - survived')"
      ]
     },
     "execution_count": 14,
     "metadata": {},
     "output_type": "execute_result"
    },
    {
     "data": {
      "image/png": "[encoded data removed]",
      "text/plain": [
       "<Figure size 432x288 with 1 Axes>"
      ]
     },
     "metadata": {
      "needs_background": "light"
     },
     "output_type": "display_data"
    }
   ],
   "source": [
    "pd.concat([train_t, y_train], axis=1).groupby('age')['survived'].mean().plot()\n",
    "plt.ylabel('media de target - survived')"
   ]
  },
  {
   "cell_type": "code",
   "execution_count": 15,
   "metadata": {},
   "outputs": [
    {
     "data": {
      "text/plain": [
       "Text(0, 0.5, 'media de target - survived')"
      ]
     },
     "execution_count": 15,
     "metadata": {},
     "output_type": "execute_result"
    },
    {
     "data": {
      "image/png": "[encoded data removed]",
      "text/plain": [
       "<Figure size 432x288 with 1 Axes>"
      ]
     },
     "metadata": {
      "needs_background": "light"
     },
     "output_type": "display_data"
    }
   ],
   "source": [
    "pd.concat([train_t, y_train], axis=1).groupby('fare')['survived'].mean().plot()\n",
    "plt.ylabel('media de target - survived')"
   ]
  },
  {
   "cell_type": "markdown",
   "metadata": {},
   "source": [
    "Ahora tenemos una relación monotónica entre las variable y el target."
   ]
  },
  {
   "cell_type": "markdown",
   "metadata": {
    "collapsed": true
   },
   "source": [
    "**Eso es todo por esta demostración. Esperamos hayan disfrutado el notebook y nos vemos en el siguiente.**"
   ]
  }
 ],
 "metadata": {
  "kernelspec": {
   "display_name": "Python 3",
   "language": "python",
   "name": "python3"
  },
  "language_info": {
   "codemirror_mode": {
    "name": "ipython",
    "version": 3
   },
   "file_extension": ".py",
   "mimetype": "text/x-python",
   "name": "python",
   "nbconvert_exporter": "python",
   "pygments_lexer": "ipython3",
   "version": "3.8.5"
  },
  "toc": {
   "base_numbering": 1,
   "nav_menu": {
    "height": "52px",
    "width": "244px"
   },
   "number_sections": true,
   "sideBar": true,
   "skip_h1_title": false,
   "title_cell": "Table of Contents",
   "title_sidebar": "Contents",
   "toc_cell": false,
   "toc_position": {},
   "toc_section_display": "block",
   "toc_window_display": true
  }
 },
 "nbformat": 4,
 "nbformat_minor": 2
}
